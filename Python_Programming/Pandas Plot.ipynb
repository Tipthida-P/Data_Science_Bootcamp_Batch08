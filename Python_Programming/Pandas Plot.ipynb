{
 "cells":[
  {
   "cell_type":"markdown",
   "source":[
    "# Intro to Pandas Plot"
   ],
   "attachments":{},
   "metadata":{
    "datalore":{
     "node_id":"PwHdASfGwHnJ6EzSgTSiHu",
     "type":"MD",
     "hide_input_from_viewers":true,
     "hide_output_from_viewers":true
    }
   }
  },
  {
   "cell_type":"code",
   "source":[
    "import pandas as pd"
   ],
   "execution_count":1,
   "outputs":[],
   "metadata":{
    "datalore":{
     "node_id":"sZDdXmt8xsJpNGK0VG3Qbq",
     "type":"CODE",
     "hide_input_from_viewers":true,
     "hide_output_from_viewers":true
    }
   }
  },
  {
   "cell_type":"code",
   "source":[
    "\n",
    "penguins = pd.read_csv(\"penguins.csv\")\n",
    "penguins.head()"
   ],
   "execution_count":2,
   "outputs":[
    {
     "data":{
      "text\/html":[
       "<div>\n",
       "<style scoped>\n",
       "    .dataframe tbody tr th:only-of-type {\n",
       "        vertical-align: middle;\n",
       "    }\n",
       "\n",
       "    .dataframe tbody tr th {\n",
       "        vertical-align: top;\n",
       "    }\n",
       "\n",
       "    .dataframe thead th {\n",
       "        text-align: right;\n",
       "    }\n",
       "<\/style>\n",
       "<table border=\"1\" class=\"dataframe\">\n",
       "  <thead>\n",
       "    <tr style=\"text-align: right;\">\n",
       "      <th><\/th>\n",
       "      <th>species<\/th>\n",
       "      <th>island<\/th>\n",
       "      <th>bill_length_mm<\/th>\n",
       "      <th>bill_depth_mm<\/th>\n",
       "      <th>flipper_length_mm<\/th>\n",
       "      <th>body_mass_g<\/th>\n",
       "      <th>sex<\/th>\n",
       "    <\/tr>\n",
       "  <\/thead>\n",
       "  <tbody>\n",
       "    <tr>\n",
       "      <th>0<\/th>\n",
       "      <td>Adelie<\/td>\n",
       "      <td>Torgersen<\/td>\n",
       "      <td>39.1<\/td>\n",
       "      <td>18.7<\/td>\n",
       "      <td>181.0<\/td>\n",
       "      <td>3750.0<\/td>\n",
       "      <td>MALE<\/td>\n",
       "    <\/tr>\n",
       "    <tr>\n",
       "      <th>1<\/th>\n",
       "      <td>Adelie<\/td>\n",
       "      <td>Torgersen<\/td>\n",
       "      <td>39.5<\/td>\n",
       "      <td>17.4<\/td>\n",
       "      <td>186.0<\/td>\n",
       "      <td>3800.0<\/td>\n",
       "      <td>FEMALE<\/td>\n",
       "    <\/tr>\n",
       "    <tr>\n",
       "      <th>2<\/th>\n",
       "      <td>Adelie<\/td>\n",
       "      <td>Torgersen<\/td>\n",
       "      <td>40.3<\/td>\n",
       "      <td>18.0<\/td>\n",
       "      <td>195.0<\/td>\n",
       "      <td>3250.0<\/td>\n",
       "      <td>FEMALE<\/td>\n",
       "    <\/tr>\n",
       "    <tr>\n",
       "      <th>3<\/th>\n",
       "      <td>Adelie<\/td>\n",
       "      <td>Torgersen<\/td>\n",
       "      <td>NaN<\/td>\n",
       "      <td>NaN<\/td>\n",
       "      <td>NaN<\/td>\n",
       "      <td>NaN<\/td>\n",
       "      <td>NaN<\/td>\n",
       "    <\/tr>\n",
       "    <tr>\n",
       "      <th>4<\/th>\n",
       "      <td>Adelie<\/td>\n",
       "      <td>Torgersen<\/td>\n",
       "      <td>36.7<\/td>\n",
       "      <td>19.3<\/td>\n",
       "      <td>193.0<\/td>\n",
       "      <td>3450.0<\/td>\n",
       "      <td>FEMALE<\/td>\n",
       "    <\/tr>\n",
       "  <\/tbody>\n",
       "<\/table>\n",
       "<\/div>"
      ]
     },
     "metadata":{},
     "output_type":"display_data"
    }
   ],
   "metadata":{
    "datalore":{
     "node_id":"bYAj5zzwj9Hk1cqf0VaksE",
     "type":"CODE",
     "hide_input_from_viewers":true,
     "hide_output_from_viewers":true
    }
   }
  },
  {
   "cell_type":"code",
   "source":[
    "# histogram one column\n",
    "penguins[\"body_mass_g\"].plot(kind=\"hist\")"
   ],
   "execution_count":5,
   "outputs":[
    {
     "data":{
      "text\/plain":[
       "<Axes: ylabel='Frequency'>"
      ]
     },
     "metadata":{},
     "output_type":"display_data"
    },
    {
     "data":{
      "image\/png":"[encoded data removed]"
     },
     "metadata":{
      "image\/png":{}
     },
     "output_type":"display_data"
    }
   ],
   "metadata":{
    "datalore":{
     "node_id":"xJJeiArC71t1XR0j5sifgT",
     "type":"CODE",
     "hide_input_from_viewers":true,
     "hide_output_from_viewers":true
    }
   }
  },
  {
   "cell_type":"code",
   "source":[
    "# histogram two columns\n",
    "penguins[[\"body_mass_g\",\"bill_length_mm\"]].plot(kind=\"hist\",bins=30)"
   ],
   "execution_count":8,
   "outputs":[
    {
     "data":{
      "text\/plain":[
       "<Axes: ylabel='Frequency'>"
      ]
     },
     "metadata":{},
     "output_type":"display_data"
    },
    {
     "data":{
      "image\/png":"[encoded data removed]"
     },
     "metadata":{
      "image\/png":{}
     },
     "output_type":"display_data"
    }
   ],
   "metadata":{
    "datalore":{
     "node_id":"nurYRgtN26WZLfeNBX8HpT",
     "type":"CODE",
     "hide_input_from_viewers":true,
     "hide_output_from_viewers":true
    }
   }
  },
  {
   "cell_type":"code",
   "source":[
    "penguins[\"bill_length_mm\"].plot(kind=\"hist\", bins=30, color=\"red\")"
   ],
   "execution_count":11,
   "outputs":[
    {
     "data":{
      "text\/plain":[
       "<Axes: ylabel='Frequency'>"
      ]
     },
     "metadata":{},
     "output_type":"display_data"
    },
    {
     "data":{
      "image\/png":"[encoded data removed]"
     },
     "metadata":{
      "image\/png":{}
     },
     "output_type":"display_data"
    }
   ],
   "metadata":{
    "datalore":{
     "node_id":"LwP3lBhfGBbupWjNp2pawe",
     "type":"CODE",
     "hide_input_from_viewers":true,
     "hide_output_from_viewers":true
    }
   }
  },
  {
   "cell_type":"code",
   "source":[
    "# bar plot for species\n",
    "\n",
    "penguins[\"species\"].value_counts().plot(kind=\"bar\",color=[\"salmon\",\"pink\",\"red\"])"
   ],
   "execution_count":13,
   "outputs":[
    {
     "data":{
      "text\/plain":[
       "<Axes: >"
      ]
     },
     "metadata":{},
     "output_type":"display_data"
    },
    {
     "data":{
      "image\/png":"[encoded data removed]"
     },
     "metadata":{
      "image\/png":{}
     },
     "output_type":"display_data"
    }
   ],
   "metadata":{
    "datalore":{
     "node_id":"NPRKVIUUHctsXXCDKF8zjf",
     "type":"CODE",
     "hide_input_from_viewers":true,
     "hide_output_from_viewers":true
    }
   }
  },
  {
   "cell_type":"code",
   "source":[
    "# scatter plot\n",
    "\n",
    "penguins[[\"bill_length_mm\",\"bill_depth_mm\"]]\\\n",
    "    .plot(x=\"bill_length_mm\",y=\"bill_depth_mm\",kind=\"scatter\")"
   ],
   "execution_count":14,
   "outputs":[
    {
     "data":{
      "text\/plain":[
       "<Axes: xlabel='bill_length_mm', ylabel='bill_depth_mm'>"
      ]
     },
     "metadata":{},
     "output_type":"display_data"
    },
    {
     "data":{
      "image\/png":"[encoded data removed]"
     },
     "metadata":{
      "image\/png":{}
     },
     "output_type":"display_data"
    }
   ],
   "metadata":{
    "datalore":{
     "node_id":"eoFFFLJ8Nujss3ZC1Slhmt",
     "type":"CODE",
     "hide_input_from_viewers":true,
     "hide_output_from_viewers":true
    }
   }
  },
  {
   "cell_type":"code",
   "source":[
    "penguins"
   ],
   "execution_count":15,
   "outputs":[
    {
     "data":{
      "text\/html":[
       "<div>\n",
       "<style scoped>\n",
       "    .dataframe tbody tr th:only-of-type {\n",
       "        vertical-align: middle;\n",
       "    }\n",
       "\n",
       "    .dataframe tbody tr th {\n",
       "        vertical-align: top;\n",
       "    }\n",
       "\n",
       "    .dataframe thead th {\n",
       "        text-align: right;\n",
       "    }\n",
       "<\/style>\n",
       "<table border=\"1\" class=\"dataframe\">\n",
       "  <thead>\n",
       "    <tr style=\"text-align: right;\">\n",
       "      <th><\/th>\n",
       "      <th>species<\/th>\n",
       "      <th>island<\/th>\n",
       "      <th>bill_length_mm<\/th>\n",
       "      <th>bill_depth_mm<\/th>\n",
       "      <th>flipper_length_mm<\/th>\n",
       "      <th>body_mass_g<\/th>\n",
       "      <th>sex<\/th>\n",
       "    <\/tr>\n",
       "  <\/thead>\n",
       "  <tbody>\n",
       "    <tr>\n",
       "      <th>0<\/th>\n",
       "      <td>Adelie<\/td>\n",
       "      <td>Torgersen<\/td>\n",
       "      <td>39.1<\/td>\n",
       "      <td>18.7<\/td>\n",
       "      <td>181.0<\/td>\n",
       "      <td>3750.0<\/td>\n",
       "      <td>MALE<\/td>\n",
       "    <\/tr>\n",
       "    <tr>\n",
       "      <th>1<\/th>\n",
       "      <td>Adelie<\/td>\n",
       "      <td>Torgersen<\/td>\n",
       "      <td>39.5<\/td>\n",
       "      <td>17.4<\/td>\n",
       "      <td>186.0<\/td>\n",
       "      <td>3800.0<\/td>\n",
       "      <td>FEMALE<\/td>\n",
       "    <\/tr>\n",
       "    <tr>\n",
       "      <th>2<\/th>\n",
       "      <td>Adelie<\/td>\n",
       "      <td>Torgersen<\/td>\n",
       "      <td>40.3<\/td>\n",
       "      <td>18.0<\/td>\n",
       "      <td>195.0<\/td>\n",
       "      <td>3250.0<\/td>\n",
       "      <td>FEMALE<\/td>\n",
       "    <\/tr>\n",
       "    <tr>\n",
       "      <th>3<\/th>\n",
       "      <td>Adelie<\/td>\n",
       "      <td>Torgersen<\/td>\n",
       "      <td>NaN<\/td>\n",
       "      <td>NaN<\/td>\n",
       "      <td>NaN<\/td>\n",
       "      <td>NaN<\/td>\n",
       "      <td>NaN<\/td>\n",
       "    <\/tr>\n",
       "    <tr>\n",
       "      <th>4<\/th>\n",
       "      <td>Adelie<\/td>\n",
       "      <td>Torgersen<\/td>\n",
       "      <td>36.7<\/td>\n",
       "      <td>19.3<\/td>\n",
       "      <td>193.0<\/td>\n",
       "      <td>3450.0<\/td>\n",
       "      <td>FEMALE<\/td>\n",
       "    <\/tr>\n",
       "    <tr>\n",
       "      <th>...<\/th>\n",
       "      <td>...<\/td>\n",
       "      <td>...<\/td>\n",
       "      <td>...<\/td>\n",
       "      <td>...<\/td>\n",
       "      <td>...<\/td>\n",
       "      <td>...<\/td>\n",
       "      <td>...<\/td>\n",
       "    <\/tr>\n",
       "    <tr>\n",
       "      <th>339<\/th>\n",
       "      <td>Gentoo<\/td>\n",
       "      <td>Biscoe<\/td>\n",
       "      <td>NaN<\/td>\n",
       "      <td>NaN<\/td>\n",
       "      <td>NaN<\/td>\n",
       "      <td>NaN<\/td>\n",
       "      <td>NaN<\/td>\n",
       "    <\/tr>\n",
       "    <tr>\n",
       "      <th>340<\/th>\n",
       "      <td>Gentoo<\/td>\n",
       "      <td>Biscoe<\/td>\n",
       "      <td>46.8<\/td>\n",
       "      <td>14.3<\/td>\n",
       "      <td>215.0<\/td>\n",
       "      <td>4850.0<\/td>\n",
       "      <td>FEMALE<\/td>\n",
       "    <\/tr>\n",
       "    <tr>\n",
       "      <th>341<\/th>\n",
       "      <td>Gentoo<\/td>\n",
       "      <td>Biscoe<\/td>\n",
       "      <td>50.4<\/td>\n",
       "      <td>15.7<\/td>\n",
       "      <td>222.0<\/td>\n",
       "      <td>5750.0<\/td>\n",
       "      <td>MALE<\/td>\n",
       "    <\/tr>\n",
       "    <tr>\n",
       "      <th>342<\/th>\n",
       "      <td>Gentoo<\/td>\n",
       "      <td>Biscoe<\/td>\n",
       "      <td>45.2<\/td>\n",
       "      <td>14.8<\/td>\n",
       "      <td>212.0<\/td>\n",
       "      <td>5200.0<\/td>\n",
       "      <td>FEMALE<\/td>\n",
       "    <\/tr>\n",
       "    <tr>\n",
       "      <th>343<\/th>\n",
       "      <td>Gentoo<\/td>\n",
       "      <td>Biscoe<\/td>\n",
       "      <td>49.9<\/td>\n",
       "      <td>16.1<\/td>\n",
       "      <td>213.0<\/td>\n",
       "      <td>5400.0<\/td>\n",
       "      <td>MALE<\/td>\n",
       "    <\/tr>\n",
       "  <\/tbody>\n",
       "<\/table>\n",
       "<p>344 rows × 7 columns<\/p>\n",
       "<\/div>"
      ]
     },
     "metadata":{},
     "output_type":"display_data"
    }
   ],
   "metadata":{
    "datalore":{
     "node_id":"PYhvSKxfyJ2np4rsoMAkC4",
     "type":"CODE",
     "hide_input_from_viewers":true,
     "hide_output_from_viewers":true
    }
   }
  }
 ],
 "metadata":{
  "kernelspec":{
   "display_name":"Python",
   "language":"python",
   "name":"python"
  },
  "datalore":{
   "computation_mode":"JUPYTER",
   "package_manager":"pip",
   "base_environment":"default",
   "packages":[],
   "report_row_ids":[],
   "version":3
  }
 },
 "nbformat":4,
 "nbformat_minor":4
}